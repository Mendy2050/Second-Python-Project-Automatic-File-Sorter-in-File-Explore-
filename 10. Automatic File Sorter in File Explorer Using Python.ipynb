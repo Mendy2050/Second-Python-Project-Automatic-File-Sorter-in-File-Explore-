{
 "cells": [
  {
   "cell_type": "markdown",
   "id": "726b3d79-1199-4d76-9f99-a1e68a313482",
   "metadata": {},
   "source": [
    "# Automatic File Sorter in File Explorer Using Python"
   ]
  },
  {
   "cell_type": "code",
   "execution_count": 1,
   "id": "e015dd99-2b84-4fe7-b538-dc858b581b83",
   "metadata": {},
   "outputs": [],
   "source": [
    "import os, shutil"
   ]
  },
  {
   "cell_type": "code",
   "execution_count": 6,
   "id": "8786c23c-f52d-417f-8308-7d1c9be12df3",
   "metadata": {},
   "outputs": [],
   "source": [
    "path = r\"C:/Users/23731/Desktop/DA所有文件/automatic file sorter project/\""
   ]
  },
  {
   "cell_type": "code",
   "execution_count": null,
   "id": "b49ed934-fa1f-4d40-a0ab-3a8dd0976575",
   "metadata": {},
   "outputs": [],
   "source": [
    "'''\n",
    "r前缀在python字符串前面表示【原始字符串(raw string)】。\n",
    "\n",
    "字符串前加r是为了防止字符串中的转义字符()被解析为转义序列。\n",
    "比如路径字符串中包含反斜杠，如果不加r前缀，python会把它解释为【转义符】:\n",
    "path = \"C:\\Users\\23731\\Desktop\"\n",
    "这里\\U会被认为是转义U字符，导致语法错误。\n",
    "\n",
    "所以使用raw string可以避免这种情况:\n",
    "path = r\"C:\\Users\\23731\\Desktop\"\n",
    "\n",
    "r字符串中的反斜杠将被视为普通字符，不作为转义符处理。\n",
    "这对路径字符串尤其重要，因为路径通常包含很多反斜杠分隔符。\n",
    "\n",
    "所以一般定义windows路径时，最好都在前面加r，这样可以正确解读路径字符串而不报错。\n",
    "所以path = r\"C:\\Users\\23731\\Desktop\\DA所有文件\\automatic file sorter project\"\n",
    "这里r的作用就是让反斜杠被视为普通字符，正确解析该字符串为路径。\n",
    "'''"
   ]
  },
  {
   "cell_type": "code",
   "execution_count": 11,
   "id": "e8dde0d3-ded5-4194-91ba-7b69b47ea033",
   "metadata": {},
   "outputs": [],
   "source": [
    "file_name = os.listdir(path)"
   ]
  },
  {
   "cell_type": "code",
   "execution_count": 16,
   "id": "d5d2b1f2-7468-4286-9c72-c85642f721ae",
   "metadata": {},
   "outputs": [
    {
     "name": "stdout",
     "output_type": "stream",
     "text": [
      "C:/Users/23731/Desktop/DA所有文件/automatic file sorter project/csv files\n",
      "C:/Users/23731/Desktop/DA所有文件/automatic file sorter project/pptx files\n",
      "C:/Users/23731/Desktop/DA所有文件/automatic file sorter project/docx files\n",
      "C:/Users/23731/Desktop/DA所有文件/automatic file sorter project/pdf files\n",
      "C:/Users/23731/Desktop/DA所有文件/automatic file sorter project/image files\n"
     ]
    }
   ],
   "source": [
    "folder_names = ['csv files', 'pptx files', 'docx files', 'pdf files', 'image files']\n",
    "\n",
    "for loop in range(0,5):\n",
    "    if not os.path.exists(path + folder_names[loop]):\n",
    "        print(path + folder_names[loop])\n",
    "        os.makedirs(path + folder_names[loop])\n",
    "\n",
    "for file in file_name:\n",
    "    if \".csv\" in file and not os.path.exists(path + \"csv files/\" + file):\n",
    "        shutil.move(path + file, path + \"csv files/\" + file)\n",
    "        \n",
    "    elif \".pptx\" in file and not os.path.exists(path + \"pptx files/\" + file):\n",
    "        shutil.move(path + file, path + \"pptx files/\" + file)\n",
    "        \n",
    "    elif \".docx\" in file and not os.path.exists(path + \"docx files/\" + file):\n",
    "        shutil.move(path + file, path + \"docx files/\" + file)\n",
    "\n",
    "    elif \".pdf\" in file and not os.path.exists(path + \"pdf files/\" + file):\n",
    "        shutil.move(path + file, path + \"pdf files/\" + file)       \n",
    "\n",
    "    elif \".png\" in file and not os.path.exists(path + \"image files/\" + file):\n",
    "        shutil.move(path + file, path + \"image files/\" + file)"
   ]
  },
  {
   "cell_type": "code",
   "execution_count": 15,
   "id": "3c791aa5-0c3d-452d-8ea0-8f3eff016562",
   "metadata": {},
   "outputs": [],
   "source": [
    "\n",
    "\n",
    "   \n",
    "        "
   ]
  },
  {
   "cell_type": "code",
   "execution_count": null,
   "id": "4c3be293-2f05-4bda-8c30-d3ba5ed95ddb",
   "metadata": {},
   "outputs": [],
   "source": []
  },
  {
   "cell_type": "code",
   "execution_count": null,
   "id": "76b6bd6e-736a-454b-a950-aa280a2290aa",
   "metadata": {},
   "outputs": [],
   "source": []
  },
  {
   "cell_type": "code",
   "execution_count": null,
   "id": "d8a5c75e-43e3-47f6-a94d-749e4bd66968",
   "metadata": {},
   "outputs": [],
   "source": []
  },
  {
   "cell_type": "code",
   "execution_count": null,
   "id": "c0903e56-cc21-467f-bc27-f47e813c91cb",
   "metadata": {},
   "outputs": [],
   "source": []
  },
  {
   "cell_type": "code",
   "execution_count": null,
   "id": "a686ec4e-1060-48f6-8bee-b003247d9c43",
   "metadata": {},
   "outputs": [],
   "source": []
  },
  {
   "cell_type": "code",
   "execution_count": null,
   "id": "246a0d66-e1d7-4c3f-813a-59f2dc5ae0c0",
   "metadata": {},
   "outputs": [],
   "source": []
  },
  {
   "cell_type": "code",
   "execution_count": null,
   "id": "52a9dc69-b8dc-498a-8ce6-7778fb53aa41",
   "metadata": {},
   "outputs": [],
   "source": []
  },
  {
   "cell_type": "code",
   "execution_count": null,
   "id": "08191345-278e-4f7e-8e90-51ec8295d77c",
   "metadata": {},
   "outputs": [],
   "source": []
  },
  {
   "cell_type": "code",
   "execution_count": null,
   "id": "68e4e70f-399c-4c6b-ac7e-a9460bb9d38f",
   "metadata": {},
   "outputs": [],
   "source": []
  },
  {
   "cell_type": "code",
   "execution_count": null,
   "id": "dd6aacae-7963-4278-bd6b-8ca636ac0aeb",
   "metadata": {},
   "outputs": [],
   "source": []
  },
  {
   "cell_type": "code",
   "execution_count": null,
   "id": "831c7c74-2ce8-4634-b3a8-704cf4c1a8a3",
   "metadata": {},
   "outputs": [],
   "source": []
  },
  {
   "cell_type": "code",
   "execution_count": null,
   "id": "b881b4b8-d0f5-4b5d-8116-e7f89439a30d",
   "metadata": {},
   "outputs": [],
   "source": []
  },
  {
   "cell_type": "code",
   "execution_count": null,
   "id": "62014ebd-80f5-4731-a342-4c460aee74d5",
   "metadata": {},
   "outputs": [],
   "source": []
  }
 ],
 "metadata": {
  "kernelspec": {
   "display_name": "Python 3 (ipykernel)",
   "language": "python",
   "name": "python3"
  },
  "language_info": {
   "codemirror_mode": {
    "name": "ipython",
    "version": 3
   },
   "file_extension": ".py",
   "mimetype": "text/x-python",
   "name": "python",
   "nbconvert_exporter": "python",
   "pygments_lexer": "ipython3",
   "version": "3.12.2"
  }
 },
 "nbformat": 4,
 "nbformat_minor": 5
}
